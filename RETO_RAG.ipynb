{
  "cells": [
    {
      "cell_type": "markdown",
      "id": "0ea4eedc",
      "metadata": {
        "id": "0ea4eedc"
      },
      "source": [
        "## 0. Setup"
      ]
    },
    {
      "cell_type": "code",
      "execution_count": null,
      "id": "0HVQQMFr8rfx",
      "metadata": {
        "colab": {
          "base_uri": "https://localhost:8080/"
        },
        "id": "0HVQQMFr8rfx",
        "outputId": "240443f0-4d33-4e97-feed-92ff097ce9e5"
      },
      "outputs": [
        {
          "name": "stdout",
          "output_type": "stream",
          "text": [
            "Traceback (most recent call last):\n",
            "  File \"<frozen importlib._bootstrap>\", line 1360, in _find_and_load\n",
            "  File \"<frozen importlib._bootstrap>\", line 1331, in _find_and_load_unlocked\n",
            "  File \"<frozen importlib._bootstrap>\", line 935, in _load_unlocked\n",
            "  File \"<frozen importlib._bootstrap_external>\", line 999, in exec_module\n",
            "  File \"<frozen importlib._bootstrap>\", line 488, in _call_with_frames_removed\n",
            "  File \"/usr/local/lib/python3.12/dist-packages/pip/_internal/cli/main_parser.py\", line 9, in <module>\n",
            "    from pip._internal.build_env import get_runnable_pip\n",
            "  File \"/usr/local/lib/python3.12/dist-packages/pip/_internal/build_env.py\", line 19, in <module>\n",
            "    from pip._internal.cli.spinners import open_spinner\n",
            "  File \"/usr/local/lib/python3.12/dist-packages/pip/_internal/cli/spinners.py\", line 9, in <module>\n",
            "^C\n"
          ]
        }
      ],
      "source": [
        "!pip install langchain langchain-openai langchain-community faiss-cpu pypdf chromadb tiktoken"
      ]
    },
    {
      "cell_type": "code",
      "execution_count": 1,
      "id": "LqaTXN8Zb88m",
      "metadata": {
        "id": "LqaTXN8Zb88m"
      },
      "outputs": [],
      "source": [
        "# Importaciones\n",
        "import os\n",
        "from langchain.document_loaders import PyPDFLoader\n",
        "from langchain.text_splitter import RecursiveCharacterTextSplitter\n",
        "from langchain.embeddings import OpenAIEmbeddings\n",
        "from langchain.vectorstores import FAISS, Chroma\n",
        "from langchain.chains import RetrievalQA\n",
        "from langchain.llms import OpenAI\n",
        "from langchain.retrievers import ContextualCompressionRetriever\n",
        "from langchain.retrievers.document_compressors import LLMChainExtractor\n",
        "import pickle"
      ]
    },
    {
      "cell_type": "code",
      "execution_count": 2,
      "id": "9b260d32",
      "metadata": {
        "id": "9b260d32"
      },
      "outputs": [],
      "source": [
        "from google.colab import userdata\n",
        "api_key = userdata.get('OPEN_AI')"
      ]
    },
    {
      "cell_type": "markdown",
      "id": "22e19bdb",
      "metadata": {
        "id": "22e19bdb"
      },
      "source": [
        "## 1. Extracting files"
      ]
    },
    {
      "cell_type": "code",
      "execution_count": null,
      "id": "lnba2iJ89T1N",
      "metadata": {
        "colab": {
          "base_uri": "https://localhost:8080/",
          "height": 107
        },
        "id": "lnba2iJ89T1N",
        "outputId": "f9f2ad0b-14ab-4860-ba96-3497f35e39ff"
      },
      "outputs": [
        {
          "data": {
            "text/html": [
              "\n",
              "     <input type=\"file\" id=\"files-125c00cb-f6d6-4a18-943c-eb70d34fd030\" name=\"files[]\" multiple disabled\n",
              "        style=\"border:none\" />\n",
              "     <output id=\"result-125c00cb-f6d6-4a18-943c-eb70d34fd030\">\n",
              "      Upload widget is only available when the cell has been executed in the\n",
              "      current browser session. Please rerun this cell to enable.\n",
              "      </output>\n",
              "      <script>// Copyright 2017 Google LLC\n",
              "//\n",
              "// Licensed under the Apache License, Version 2.0 (the \"License\");\n",
              "// you may not use this file except in compliance with the License.\n",
              "// You may obtain a copy of the License at\n",
              "//\n",
              "//      http://www.apache.org/licenses/LICENSE-2.0\n",
              "//\n",
              "// Unless required by applicable law or agreed to in writing, software\n",
              "// distributed under the License is distributed on an \"AS IS\" BASIS,\n",
              "// WITHOUT WARRANTIES OR CONDITIONS OF ANY KIND, either express or implied.\n",
              "// See the License for the specific language governing permissions and\n",
              "// limitations under the License.\n",
              "\n",
              "/**\n",
              " * @fileoverview Helpers for google.colab Python module.\n",
              " */\n",
              "(function(scope) {\n",
              "function span(text, styleAttributes = {}) {\n",
              "  const element = document.createElement('span');\n",
              "  element.textContent = text;\n",
              "  for (const key of Object.keys(styleAttributes)) {\n",
              "    element.style[key] = styleAttributes[key];\n",
              "  }\n",
              "  return element;\n",
              "}\n",
              "\n",
              "// Max number of bytes which will be uploaded at a time.\n",
              "const MAX_PAYLOAD_SIZE = 100 * 1024;\n",
              "\n",
              "function _uploadFiles(inputId, outputId) {\n",
              "  const steps = uploadFilesStep(inputId, outputId);\n",
              "  const outputElement = document.getElementById(outputId);\n",
              "  // Cache steps on the outputElement to make it available for the next call\n",
              "  // to uploadFilesContinue from Python.\n",
              "  outputElement.steps = steps;\n",
              "\n",
              "  return _uploadFilesContinue(outputId);\n",
              "}\n",
              "\n",
              "// This is roughly an async generator (not supported in the browser yet),\n",
              "// where there are multiple asynchronous steps and the Python side is going\n",
              "// to poll for completion of each step.\n",
              "// This uses a Promise to block the python side on completion of each step,\n",
              "// then passes the result of the previous step as the input to the next step.\n",
              "function _uploadFilesContinue(outputId) {\n",
              "  const outputElement = document.getElementById(outputId);\n",
              "  const steps = outputElement.steps;\n",
              "\n",
              "  const next = steps.next(outputElement.lastPromiseValue);\n",
              "  return Promise.resolve(next.value.promise).then((value) => {\n",
              "    // Cache the last promise value to make it available to the next\n",
              "    // step of the generator.\n",
              "    outputElement.lastPromiseValue = value;\n",
              "    return next.value.response;\n",
              "  });\n",
              "}\n",
              "\n",
              "/**\n",
              " * Generator function which is called between each async step of the upload\n",
              " * process.\n",
              " * @param {string} inputId Element ID of the input file picker element.\n",
              " * @param {string} outputId Element ID of the output display.\n",
              " * @return {!Iterable<!Object>} Iterable of next steps.\n",
              " */\n",
              "function* uploadFilesStep(inputId, outputId) {\n",
              "  const inputElement = document.getElementById(inputId);\n",
              "  inputElement.disabled = false;\n",
              "\n",
              "  const outputElement = document.getElementById(outputId);\n",
              "  outputElement.innerHTML = '';\n",
              "\n",
              "  const pickedPromise = new Promise((resolve) => {\n",
              "    inputElement.addEventListener('change', (e) => {\n",
              "      resolve(e.target.files);\n",
              "    });\n",
              "  });\n",
              "\n",
              "  const cancel = document.createElement('button');\n",
              "  inputElement.parentElement.appendChild(cancel);\n",
              "  cancel.textContent = 'Cancel upload';\n",
              "  const cancelPromise = new Promise((resolve) => {\n",
              "    cancel.onclick = () => {\n",
              "      resolve(null);\n",
              "    };\n",
              "  });\n",
              "\n",
              "  // Wait for the user to pick the files.\n",
              "  const files = yield {\n",
              "    promise: Promise.race([pickedPromise, cancelPromise]),\n",
              "    response: {\n",
              "      action: 'starting',\n",
              "    }\n",
              "  };\n",
              "\n",
              "  cancel.remove();\n",
              "\n",
              "  // Disable the input element since further picks are not allowed.\n",
              "  inputElement.disabled = true;\n",
              "\n",
              "  if (!files) {\n",
              "    return {\n",
              "      response: {\n",
              "        action: 'complete',\n",
              "      }\n",
              "    };\n",
              "  }\n",
              "\n",
              "  for (const file of files) {\n",
              "    const li = document.createElement('li');\n",
              "    li.append(span(file.name, {fontWeight: 'bold'}));\n",
              "    li.append(span(\n",
              "        `(${file.type || 'n/a'}) - ${file.size} bytes, ` +\n",
              "        `last modified: ${\n",
              "            file.lastModifiedDate ? file.lastModifiedDate.toLocaleDateString() :\n",
              "                                    'n/a'} - `));\n",
              "    const percent = span('0% done');\n",
              "    li.appendChild(percent);\n",
              "\n",
              "    outputElement.appendChild(li);\n",
              "\n",
              "    const fileDataPromise = new Promise((resolve) => {\n",
              "      const reader = new FileReader();\n",
              "      reader.onload = (e) => {\n",
              "        resolve(e.target.result);\n",
              "      };\n",
              "      reader.readAsArrayBuffer(file);\n",
              "    });\n",
              "    // Wait for the data to be ready.\n",
              "    let fileData = yield {\n",
              "      promise: fileDataPromise,\n",
              "      response: {\n",
              "        action: 'continue',\n",
              "      }\n",
              "    };\n",
              "\n",
              "    // Use a chunked sending to avoid message size limits. See b/62115660.\n",
              "    let position = 0;\n",
              "    do {\n",
              "      const length = Math.min(fileData.byteLength - position, MAX_PAYLOAD_SIZE);\n",
              "      const chunk = new Uint8Array(fileData, position, length);\n",
              "      position += length;\n",
              "\n",
              "      const base64 = btoa(String.fromCharCode.apply(null, chunk));\n",
              "      yield {\n",
              "        response: {\n",
              "          action: 'append',\n",
              "          file: file.name,\n",
              "          data: base64,\n",
              "        },\n",
              "      };\n",
              "\n",
              "      let percentDone = fileData.byteLength === 0 ?\n",
              "          100 :\n",
              "          Math.round((position / fileData.byteLength) * 100);\n",
              "      percent.textContent = `${percentDone}% done`;\n",
              "\n",
              "    } while (position < fileData.byteLength);\n",
              "  }\n",
              "\n",
              "  // All done.\n",
              "  yield {\n",
              "    response: {\n",
              "      action: 'complete',\n",
              "    }\n",
              "  };\n",
              "}\n",
              "\n",
              "scope.google = scope.google || {};\n",
              "scope.google.colab = scope.google.colab || {};\n",
              "scope.google.colab._files = {\n",
              "  _uploadFiles,\n",
              "  _uploadFilesContinue,\n",
              "};\n",
              "})(self);\n",
              "</script> "
            ],
            "text/plain": [
              "<IPython.core.display.HTML object>"
            ]
          },
          "metadata": {},
          "output_type": "display_data"
        },
        {
          "name": "stdout",
          "output_type": "stream",
          "text": [
            "Saving K32L2B3xRM.pdf to K32L2B3xRM (2).pdf\n",
            "✅ Archivo subido: K32L2B3xRM (2).pdf (5058698 bytes)\n",
            "📄 Rutas: /content/K32L2B3xRM (2).pdf\n"
          ]
        }
      ],
      "source": [
        "import os\n",
        "import glob\n",
        "\n",
        "# 🔹 1. Clonar el repo (cambia la URL por la de tu repo)\n",
        "!git clone https://github.com/Jorhuer/Modulo1_Reto_RAG.git\n",
        "\n",
        "# 🔹 2. Detectar automáticamente la carpeta del repo\n",
        "# (asume que solo clonaste un repo dentro de /content)\n",
        "repo_dirs = glob.glob(\"/content/*/\")\n",
        "repo_path = max(repo_dirs, key=os.path.getmtime).rstrip(\"/\")  # el más reciente clonado\n",
        "print(f\"📂 Repo detectado en: {repo_path}\")\n",
        "\n",
        "# 🔹 3. Buscar el archivo PDF dentro de /datos\n",
        "pdf_path = os.path.join(repo_path, \"datos\", \"K32L2B3xRM.pdf\")\n",
        "\n",
        "if os.path.exists(pdf_path):\n",
        "    print(f\"✅ Archivo encontrado: {pdf_path}\")\n",
        "else:\n",
        "    print(f\"❌ No se encontró el archivo en: {pdf_path}\")\n",
        "    print(\"👉 Verifica que exista la carpeta 'datos' y que el PDF tenga exactamente ese nombre.\")\n"
      ]
    },
    {
      "cell_type": "code",
      "execution_count": 5,
      "id": "hyrtLBYQclUr",
      "metadata": {
        "colab": {
          "base_uri": "https://localhost:8080/"
        },
        "id": "hyrtLBYQclUr",
        "outputId": "80dbd131-544b-49f5-99d7-05a3c13d89aa"
      },
      "outputs": [
        {
          "name": "stdout",
          "output_type": "stream",
          "text": [
            "Número de páginas: 977\n",
            "Texto de la primera página: K32 L2B Sub-Family Reference\n",
            "Manual\n",
            "Supports: K32L2B31VLH0A, K32L2B31VMP0A, K32L2B31VFT0A,\n",
            "K32L2B31VFM0A, K32L2B21VLH0A, K32L2B21VMP0A,\n",
            "K32L2B21VFT0A, K32L2B21VFM0A, K32L2B11VLH0A,\n",
            "K32L2B11VMP0A, K32L...\n"
          ]
        }
      ],
      "source": [
        "# Cargar el PDF\n",
        "loader = PyPDFLoader(pdf_path)\n",
        "documents = loader.load()\n",
        "\n",
        "# Mostrar info básica\n",
        "print(f\"Número de páginas: {len(documents)}\")\n",
        "print(f\"Texto de la primera página: {documents[0].page_content[:200]}...\")\n",
        "\n",
        "# Opcional: Guardar documentos crudos para inspección\n",
        "with open(\"raw_documents.pkl\", \"wb\") as f:\n",
        "    pickle.dump(documents, f)"
      ]
    },
    {
      "cell_type": "markdown",
      "id": "6b83e77a",
      "metadata": {
        "id": "6b83e77a"
      },
      "source": [
        "## 2. Text Splitting into Chunks"
      ]
    },
    {
      "cell_type": "code",
      "execution_count": 6,
      "id": "4RJdCL99G9gC",
      "metadata": {
        "colab": {
          "base_uri": "https://localhost:8080/"
        },
        "id": "4RJdCL99G9gC",
        "outputId": "fcdc9b3a-517f-49f7-b62c-dec392ecb001"
      },
      "outputs": [
        {
          "name": "stdout",
          "output_type": "stream",
          "text": [
            "Número de chunks: 2406\n",
            "Longitud del primer chunk: 268 caracteres\n",
            "Primer chunk: K32 L2B Sub-Family Reference\n",
            "Manual\n",
            "Supports: K32L2B31VLH0A, K32L2B31VMP0A, K32L2B31VFT0A,\n",
            "K32L2B31VFM0A, K32L2B21VLH0A, K32L2B21VMP0A,\n",
            "K32L2B21VFT0A,...\n"
          ]
        }
      ],
      "source": [
        "# Configuración del splitter\n",
        "text_splitter = RecursiveCharacterTextSplitter(\n",
        "    chunk_size=1000,  # Tamaño máximo por chunk\n",
        "    chunk_overlap=200,  # Overlap para contexto\n",
        "    length_function=len,  # Función para medir longitud\n",
        "    separators=[\"\\n\\n\", \"\\n\", \" \", \"\"]  # Jerarquía de splits\n",
        ")\n",
        "\n",
        "# Dividir documentos\n",
        "chunks = text_splitter.split_documents(documents)\n",
        "\n",
        "# Mostrar info\n",
        "print(f\"Número de chunks: {len(chunks)}\")\n",
        "print(f\"Longitud del primer chunk: {len(chunks[0].page_content)} caracteres\")\n",
        "print(f\"Primer chunk: {chunks[0].page_content[:150]}...\")"
      ]
    },
    {
      "cell_type": "markdown",
      "id": "8d06e27f",
      "metadata": {
        "id": "8d06e27f"
      },
      "source": [
        "## 3. Embedding"
      ]
    },
    {
      "cell_type": "code",
      "execution_count": null,
      "id": "ec00fa4b",
      "metadata": {
        "colab": {
          "base_uri": "https://localhost:8080/"
        },
        "id": "ec00fa4b",
        "outputId": "9c2eaa4d-4b33-4dea-96a6-5fe2d8eecdf7"
      },
      "outputs": [
        {
          "name": "stdout",
          "output_type": "stream",
          "text": [
            "Forma del embedding: 1536 dimensiones\n",
            "Primeros 5 valores: [0.017576045199562206, 0.004715609571925872, 0.0039780309313411834, -0.007375786871508193, -0.020568308395154555]\n"
          ]
        }
      ],
      "source": [
        "# Inicializar embeddings\n",
        "embeddings = OpenAIEmbeddings(model=\"text-embedding-ada-002\", openai_api_key=api_key)\n",
        "\n",
        "# Ejemplo: Embed un chunk de prueba\n",
        "sample_embedding = embeddings.embed_query(chunks[0].page_content[:100])\n",
        "print(f\"Forma del embedding: {len(sample_embedding)} dimensiones\")\n",
        "print(f\"Primeros 5 valores: {sample_embedding[:5]}\")"
      ]
    },
    {
      "cell_type": "markdown",
      "id": "72c82e20",
      "metadata": {
        "id": "72c82e20"
      },
      "source": [
        "## 4. Vector Stores"
      ]
    },
    {
      "cell_type": "code",
      "execution_count": 10,
      "id": "a3d89880",
      "metadata": {
        "colab": {
          "base_uri": "https://localhost:8080/"
        },
        "id": "a3d89880",
        "outputId": "55c789b1-bfb0-4bce-94b2-a67a50330e3c"
      },
      "outputs": [
        {
          "name": "stderr",
          "output_type": "stream",
          "text": [
            "/tmp/ipython-input-2973032204.py:7: LangChainDeprecationWarning: Since Chroma 0.4.x the manual persistence method is no longer supported as docs are automatically persisted.\n",
            "  vectorstore.persist()\n"
          ]
        }
      ],
      "source": [
        "# Con Chroma\n",
        "vectorstore = Chroma.from_documents(\n",
        "    documents=chunks,\n",
        "    embedding=embeddings,\n",
        "    persist_directory=\"./chroma_db\"\n",
        ")\n",
        "vectorstore.persist()"
      ]
    },
    {
      "cell_type": "markdown",
      "id": "85da1ee7",
      "metadata": {
        "id": "85da1ee7"
      },
      "source": [
        "## 5. Retriving from the Persistant Vector Datastore"
      ]
    },
    {
      "cell_type": "code",
      "execution_count": 15,
      "id": "e9fd2322",
      "metadata": {
        "id": "e9fd2322"
      },
      "outputs": [],
      "source": [
        "# Cargar vector store persistente con Chroma\n",
        "loaded_vectorstore = Chroma(\n",
        "    persist_directory=\"chroma_db\",  # Cambia \"faiss_index\" por \"chroma_db\"\n",
        "    embedding_function=embeddings\n",
        ")"
      ]
    },
    {
      "cell_type": "markdown",
      "id": "d4abf77e",
      "metadata": {
        "id": "d4abf77e"
      },
      "source": [
        "## 6. Retrivers in Langchain"
      ]
    },
    {
      "cell_type": "code",
      "execution_count": 17,
      "id": "568bce4f",
      "metadata": {
        "id": "568bce4f"
      },
      "outputs": [],
      "source": [
        "from langchain_openai import OpenAI\n",
        "\n",
        "# Inicializar LLM (OpenAI)\n",
        "llm = OpenAI(temperature=0.7, openai_api_key=api_key)\n",
        "\n",
        "# Crear retriever básico\n",
        "retriever = loaded_vectorstore.as_retriever(search_type=\"similarity\", search_kwargs={\"k\": 4})\n",
        "\n",
        "# Opcional: Retriever con compresión (reduce ruido)\n",
        "# compressor = LLMChainExtractor.from_llm(llm)\n",
        "# compression_retriever = ContextualCompressionRetriever(\n",
        "#     base_compressor=compressor, base_retriever=retriever\n",
        "# )\n",
        "\n",
        "# Cadena RAG\n",
        "qa_chain = RetrievalQA.from_chain_type(\n",
        "    llm=llm,\n",
        "    chain_type=\"stuff\",  # 'stuff' mete todos los docs en el prompt\n",
        "    retriever=retriever,\n",
        "    return_source_documents=True\n",
        ")"
      ]
    },
    {
      "cell_type": "markdown",
      "id": "Yxj-Bfct2_tr",
      "metadata": {
        "id": "Yxj-Bfct2_tr"
      },
      "source": [
        "# 7. Request"
      ]
    },
    {
      "cell_type": "code",
      "execution_count": 19,
      "id": "yIpCk5s13TDp",
      "metadata": {
        "colab": {
          "base_uri": "https://localhost:8080/"
        },
        "id": "yIpCk5s13TDp",
        "outputId": "10a45cfa-cfc8-431e-ee9f-a65a7b436246"
      },
      "outputs": [
        {
          "name": "stdout",
          "output_type": "stream",
          "text": [
            "\n",
            "El K32L2B3 tiene 48 pines en la versión QFN y 64 pines en la versión LQFP y MAPBGA. El número de parte no determina la cantidad de pines, ya que hay varias variantes del K32L2B3 con diferentes cantidades de memoria y funcionalidades. \n"
          ]
        }
      ],
      "source": [
        "def ask_rag(question):\n",
        "    result = qa_chain({\"query\": question})\n",
        "    return result[\"result\"]\n",
        "\n",
        "# Ejemplo\n",
        "print(ask_rag(\"\\n¿Cuantos pines tiene el K32L2B3 por numero de parte?\"))"
      ]
    },
    {
      "cell_type": "code",
      "execution_count": 20,
      "id": "1sD9tYxt3yt7",
      "metadata": {
        "colab": {
          "base_uri": "https://localhost:8080/"
        },
        "id": "1sD9tYxt3yt7",
        "outputId": "860f4310-c3b2-42b6-caf6-374a18f98b16"
      },
      "outputs": [
        {
          "name": "stdout",
          "output_type": "stream",
          "text": [
            "\n",
            "El K32L2B3 soporta un total de 16 periféricos ADC. \n"
          ]
        }
      ],
      "source": [
        "def ask_rag(question):\n",
        "    result = qa_chain({\"query\": question})\n",
        "    return result[\"result\"]\n",
        "\n",
        "# Ejemplo\n",
        "print(ask_rag(\"\\n¿Cuatos perifericos ADC soporta el K32L2B3?\"))"
      ]
    },
    {
      "cell_type": "code",
      "execution_count": 21,
      "id": "B6lHXAVP3-9_",
      "metadata": {
        "colab": {
          "base_uri": "https://localhost:8080/"
        },
        "id": "B6lHXAVP3-9_",
        "outputId": "d650cb75-2ea9-40cf-b88b-8f0fafdfe537"
      },
      "outputs": [
        {
          "name": "stdout",
          "output_type": "stream",
          "text": [
            "\n",
            "El K32L2B3 tiene una opción de memoria de hasta 32 KB de RAM. \n"
          ]
        }
      ],
      "source": [
        "def ask_rag(question):\n",
        "    result = qa_chain({\"query\": question})\n",
        "    return result[\"result\"]\n",
        "\n",
        "# Ejemplo\n",
        "print(ask_rag(\"\\n¿Cuanta RAM tiee el K32L2B3?\"))"
      ]
    },
    {
      "cell_type": "code",
      "execution_count": 23,
      "id": "5tXhXU-L4G6d",
      "metadata": {
        "colab": {
          "base_uri": "https://localhost:8080/"
        },
        "id": "5tXhXU-L4G6d",
        "outputId": "ae8d5c31-1473-44e9-9b4c-0145e554a3c6"
      },
      "outputs": [
        {
          "name": "stdout",
          "output_type": "stream",
          "text": [
            " 16 KB of ROM.\n"
          ]
        }
      ],
      "source": [
        "def ask_rag(question):\n",
        "    result = qa_chain({\"query\": question})\n",
        "    return result[\"result\"]\n",
        "\n",
        "# Ejemplo\n",
        "print(ask_rag(\"\\n¿Cuanta ROM tiene el K32L2B3?\"))"
      ]
    },
    {
      "cell_type": "code",
      "execution_count": 24,
      "id": "tDY-vE1H4UXK",
      "metadata": {
        "colab": {
          "base_uri": "https://localhost:8080/"
        },
        "id": "tDY-vE1H4UXK",
        "outputId": "c2f30507-e8d2-43aa-d735-29111bae28a1"
      },
      "outputs": [
        {
          "name": "stdout",
          "output_type": "stream",
          "text": [
            "\n",
            "El modo de bajo consumo en el K32L2B3 se implementa a través del apagado de todos los relojes del sistema y del bus, la desactivación de los generadores de reloj en el MCG y la configuración de los reguladores y interruptores de energía internos para cumplir con los objetivos de consumo de energía. Este dispositivo también admite los modos de ejecución (RUN) y de ejecución muy baja en energía (VLPR).\n"
          ]
        }
      ],
      "source": [
        "def ask_rag(question):\n",
        "    result = qa_chain({\"query\": question})\n",
        "    return result[\"result\"]\n",
        "\n",
        "# Ejemplo\n",
        "print(ask_rag(\"\\n¿Como se implementa el modo de bajo consumo en el K32L2B3?\"))"
      ]
    }
  ],
  "metadata": {
    "colab": {
      "provenance": []
    },
    "kernelspec": {
      "display_name": "rag_build",
      "language": "python",
      "name": "python3"
    },
    "language_info": {
      "codemirror_mode": {
        "name": "ipython",
        "version": 3
      },
      "file_extension": ".py",
      "mimetype": "text/x-python",
      "name": "python",
      "nbconvert_exporter": "python",
      "pygments_lexer": "ipython3",
      "version": "3.12.10"
    }
  },
  "nbformat": 4,
  "nbformat_minor": 5
}
